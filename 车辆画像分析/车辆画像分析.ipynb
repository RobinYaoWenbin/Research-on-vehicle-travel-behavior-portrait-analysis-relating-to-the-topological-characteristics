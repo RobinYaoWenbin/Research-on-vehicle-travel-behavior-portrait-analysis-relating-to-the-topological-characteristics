{
 "cells": [
  {
   "cell_type": "code",
   "execution_count": 1,
   "id": "a0f3f6e8",
   "metadata": {},
   "outputs": [],
   "source": [
    "import matplotlib.pyplot as plt\n",
    "import networkx as nx\n",
    "import pandas as pd\n",
    "import numpy as np\n",
    "import matplotlib as mpl\n",
    "import geopandas as gpd\n",
    "from coord_convert.transform import wgs2gcj, wgs2bd, gcj2wgs, gcj2bd, bd2wgs, bd2gcj \n",
    "from shapely.geometry import Point,Polygon,shape\n",
    "import shapely.geometry\n",
    "import sys\n",
    "sys.path.append(r'./packages_rely/')\n",
    "import plot_map\n",
    "import json\n",
    "import osmnx as ox\n",
    "from scipy.spatial.distance import pdist\n",
    "from scipy import spatial\n",
    "import math\n",
    "from math import radians, cos, sin, asin, sqrt\n",
    "import osmnx as ox\n",
    "import folium\n",
    "import os\n",
    "import copy\n",
    "from sklearn import preprocessing\n",
    "plt.rc('font',family='Times New Roman')\n",
    "from matplotlib import rcParams\n",
    "\n",
    "config = {\n",
    "    \"font.family\":'serif',\n",
    "    \"font.size\": 10,\n",
    "    \"mathtext.fontset\":'stix',\n",
    "    \"font.serif\": ['FangSong','SimSun'],\n",
    "}\n",
    "rcParams.update(config)"
   ]
  },
  {
   "cell_type": "markdown",
   "id": "7671008b",
   "metadata": {},
   "source": [
    "# 1.数据读取、预处理及特征提取"
   ]
  },
  {
   "cell_type": "code",
   "execution_count": 2,
   "id": "0529abc5",
   "metadata": {},
   "outputs": [
    {
     "data": {
      "text/html": [
       "<div>\n",
       "<style scoped>\n",
       "    .dataframe tbody tr th:only-of-type {\n",
       "        vertical-align: middle;\n",
       "    }\n",
       "\n",
       "    .dataframe tbody tr th {\n",
       "        vertical-align: top;\n",
       "    }\n",
       "\n",
       "    .dataframe thead th {\n",
       "        text-align: right;\n",
       "    }\n",
       "</style>\n",
       "<table border=\"1\" class=\"dataframe\">\n",
       "  <thead>\n",
       "    <tr style=\"text-align: right;\">\n",
       "      <th></th>\n",
       "      <th>camera_idxx</th>\n",
       "      <th>camera_addr</th>\n",
       "      <th>in_time_latest</th>\n",
       "      <th>turn_dir</th>\n",
       "      <th>camera_type</th>\n",
       "      <th>camera_service_ip</th>\n",
       "      <th>channel_id</th>\n",
       "      <th>channel_num</th>\n",
       "      <th>lat</th>\n",
       "      <th>lng</th>\n",
       "      <th>...</th>\n",
       "      <th>citydogcj02lat</th>\n",
       "      <th>citydogcj02lng</th>\n",
       "      <th>camera_node</th>\n",
       "      <th>node_gcj02lat</th>\n",
       "      <th>node_gcj02lng</th>\n",
       "      <th>lnglat84</th>\n",
       "      <th>lng84</th>\n",
       "      <th>lat84</th>\n",
       "      <th>nodeid</th>\n",
       "      <th>dis2node</th>\n",
       "    </tr>\n",
       "  </thead>\n",
       "  <tbody>\n",
       "    <tr>\n",
       "      <th>0</th>\n",
       "      <td>33010900001320130299xx</td>\n",
       "      <td>风情大道-晨晖路南向北1</td>\n",
       "      <td>2018-11-01 11:28:01.362</td>\n",
       "      <td>南向北</td>\n",
       "      <td>枪机</td>\n",
       "      <td>33.90.129.76</td>\n",
       "      <td>1000053.0</td>\n",
       "      <td>15.0</td>\n",
       "      <td>30.142625</td>\n",
       "      <td>120.251083</td>\n",
       "      <td>...</td>\n",
       "      <td>30.136641</td>\n",
       "      <td>120.244824</td>\n",
       "      <td>风情大道-晨晖路</td>\n",
       "      <td>30.137144</td>\n",
       "      <td>120.245001</td>\n",
       "      <td>(120.24035064995653, 30.139100201406947)</td>\n",
       "      <td>120.240351</td>\n",
       "      <td>30.139100</td>\n",
       "      <td>483</td>\n",
       "      <td>51.412587</td>\n",
       "    </tr>\n",
       "    <tr>\n",
       "      <th>1</th>\n",
       "      <td>33010900001320130298xx</td>\n",
       "      <td>风情大道-晨晖路南向北2</td>\n",
       "      <td>2018-11-01 11:28:31.935</td>\n",
       "      <td>南向北</td>\n",
       "      <td>枪机</td>\n",
       "      <td>33.90.129.76</td>\n",
       "      <td>1000053.0</td>\n",
       "      <td>14.0</td>\n",
       "      <td>30.142625</td>\n",
       "      <td>120.251083</td>\n",
       "      <td>...</td>\n",
       "      <td>30.136672</td>\n",
       "      <td>120.244855</td>\n",
       "      <td>风情大道-晨晖路</td>\n",
       "      <td>30.137144</td>\n",
       "      <td>120.245001</td>\n",
       "      <td>(120.2403811675365, 30.139130718984944)</td>\n",
       "      <td>120.240381</td>\n",
       "      <td>30.139131</td>\n",
       "      <td>483</td>\n",
       "      <td>47.168040</td>\n",
       "    </tr>\n",
       "  </tbody>\n",
       "</table>\n",
       "<p>2 rows × 24 columns</p>\n",
       "</div>"
      ],
      "text/plain": [
       "              camera_idxx   camera_addr          in_time_latest turn_dir  \\\n",
       "0  33010900001320130299xx  风情大道-晨晖路南向北1 2018-11-01 11:28:01.362      南向北   \n",
       "1  33010900001320130298xx  风情大道-晨晖路南向北2 2018-11-01 11:28:31.935      南向北   \n",
       "\n",
       "  camera_type camera_service_ip  channel_id  channel_num        lat  \\\n",
       "0          枪机      33.90.129.76   1000053.0         15.0  30.142625   \n",
       "1          枪机      33.90.129.76   1000053.0         14.0  30.142625   \n",
       "\n",
       "          lng  ... citydogcj02lat  citydogcj02lng camera_node node_gcj02lat  \\\n",
       "0  120.251083  ...      30.136641      120.244824    风情大道-晨晖路     30.137144   \n",
       "1  120.251083  ...      30.136672      120.244855    风情大道-晨晖路     30.137144   \n",
       "\n",
       "   node_gcj02lng                                  lnglat84       lng84  \\\n",
       "0     120.245001  (120.24035064995653, 30.139100201406947)  120.240351   \n",
       "1     120.245001   (120.2403811675365, 30.139130718984944)  120.240381   \n",
       "\n",
       "       lat84  nodeid   dis2node  \n",
       "0  30.139100     483  51.412587  \n",
       "1  30.139131     483  47.168040  \n",
       "\n",
       "[2 rows x 24 columns]"
      ]
     },
     "execution_count": 2,
     "metadata": {},
     "output_type": "execute_result"
    }
   ],
   "source": [
    "# 电警与交叉口映射\n",
    "# 设备信息表1\n",
    "dev_df = pd.read_excel(\"./数据/distinct_camera.xlsx\")\n",
    "dev_df.dropna(how='all',inplace=True,axis=0)\n",
    "dev_df.dropna(how='all',inplace=True,axis=1)\n",
    "# 将电警卡口的经纬度转化为84坐标系\n",
    "def conv284(ser):\n",
    "    return gcj2wgs(ser[0],ser[1])\n",
    "    \n",
    "dev_df['lnglat84'] = dev_df[['citydogcj02lng','citydogcj02lat']].apply(conv284 , axis=1)\n",
    "dev_df['lng84'] = dev_df[['lnglat84']].applymap(lambda x:x[0])\n",
    "dev_df['lat84'] = dev_df[['lnglat84']].applymap(lambda x:x[1])\n",
    "# 读取网络\n",
    "G = ox.io.load_graphml(filepath='./数据/基于osmnx的路网爬取/graph84坐标系.graphml')\n",
    "# 将交叉口与电警做映射，算法是利用直线距离最近来匹配\n",
    "nn, dist = ox.distance.nearest_nodes(G, dev_df['lng84'], dev_df['lat84'], return_dist=True)\n",
    "dev_df['nodeid'] = nn ; dev_df['dis2node'] = dist\n",
    "# 将电警与交叉口的映射可视化\n",
    "dev_df = dev_df[dev_df['dis2node'] < 100]\n",
    "dev_df.reset_index(drop=True,inplace=True)\n",
    "dev_df.head(2)"
   ]
  },
  {
   "cell_type": "code",
   "execution_count": 3,
   "id": "2b6c424a",
   "metadata": {},
   "outputs": [
    {
     "name": "stdout",
     "output_type": "stream",
     "text": [
      "正在处理0318日期的数据\n",
      "正在处理0319日期的数据\n",
      "正在处理0320日期的数据\n",
      "正在处理0321日期的数据\n",
      "正在处理0322日期的数据\n",
      "平均每天总行数为7001472.6行，平均每天错误检测占比为0.09101036606529886，平均每天重复检测占比为0.025011387345187968\n"
     ]
    }
   ],
   "source": [
    "# 车牌识别数据概述\n",
    "tol_len = []\n",
    "error_ratio = []\n",
    "detec_times = []\n",
    "for date in ['0318','0319','0320','0321','0322']:\n",
    "    print(\"正在处理{0}日期的数据\".format(date))\n",
    "    # 读取数据并做预处理，按照天为单位读取并处理\n",
    "    path = './数据/萧山市车牌识别数据/'\n",
    "    df = pd.read_csv(path+date+\".csv\")\n",
    "    df.drop(columns=['Unnamed: 0'],inplace=True)\n",
    "    df.rename(columns={'0':'car_num','1':'cap_date','2':'type','3':'dev_id','4':'dir','5':'road_id','6':'turn_id'},inplace=True)\n",
    "    tol_len.append(len(df))\n",
    "    error_ratio.append( len(df[df['car_num'] == 'UNKNOW']) / len(df) )\n",
    "    df = df[df['car_num'] != 'UNKNOW']\n",
    "    len_1 = len(df)\n",
    "    df = df.drop_duplicates(subset=['car_num' , 'cap_date'])\n",
    "    detec_times.append( (len_1-len(df))/len(df) )\n",
    "print(\"平均每天总行数为{0}行，平均每天错误检测占比为{1}，平均每天重复检测占比为{2}\".format(np.mean(tol_len) , \n",
    "                                                          np.mean(error_ratio) , np.mean(detec_times)))"
   ]
  },
  {
   "cell_type": "code",
   "execution_count": 3,
   "id": "b218cb81",
   "metadata": {},
   "outputs": [
    {
     "name": "stdout",
     "output_type": "stream",
     "text": [
      "正在处理0318日期的数据\n",
      "重复数据占比为0.023714642807116625\n",
      "正在处理0319日期的数据\n",
      "重复数据占比为0.024948170492255086\n",
      "正在处理0320日期的数据\n",
      "重复数据占比为0.02493012859810974\n",
      "正在处理0321日期的数据\n",
      "重复数据占比为0.022113746913142385\n",
      "正在处理0322日期的数据\n",
      "重复数据占比为0.026288637368022148\n"
     ]
    },
    {
     "data": {
      "text/html": [
       "<div>\n",
       "<style scoped>\n",
       "    .dataframe tbody tr th:only-of-type {\n",
       "        vertical-align: middle;\n",
       "    }\n",
       "\n",
       "    .dataframe tbody tr th {\n",
       "        vertical-align: top;\n",
       "    }\n",
       "\n",
       "    .dataframe thead th {\n",
       "        text-align: right;\n",
       "    }\n",
       "</style>\n",
       "<table border=\"1\" class=\"dataframe\">\n",
       "  <thead>\n",
       "    <tr style=\"text-align: right;\">\n",
       "      <th></th>\n",
       "      <th>car_num</th>\n",
       "      <th>peak0318</th>\n",
       "      <th>nonpeak0318</th>\n",
       "      <th>peak0319</th>\n",
       "      <th>nonpeak0319</th>\n",
       "      <th>peak0320</th>\n",
       "      <th>nonpeak0320</th>\n",
       "      <th>peak0321</th>\n",
       "      <th>nonpeak0321</th>\n",
       "      <th>peak0322</th>\n",
       "      <th>nonpeak0322</th>\n",
       "    </tr>\n",
       "  </thead>\n",
       "  <tbody>\n",
       "    <tr>\n",
       "      <th>0</th>\n",
       "      <td>云A00L27</td>\n",
       "      <td>1.0</td>\n",
       "      <td>0.0</td>\n",
       "      <td>0.0</td>\n",
       "      <td>0.0</td>\n",
       "      <td>0.0</td>\n",
       "      <td>0.0</td>\n",
       "      <td>0.0</td>\n",
       "      <td>0.0</td>\n",
       "      <td>0.0</td>\n",
       "      <td>0.0</td>\n",
       "    </tr>\n",
       "    <tr>\n",
       "      <th>1</th>\n",
       "      <td>云A088QL</td>\n",
       "      <td>2.0</td>\n",
       "      <td>0.0</td>\n",
       "      <td>0.0</td>\n",
       "      <td>0.0</td>\n",
       "      <td>0.0</td>\n",
       "      <td>0.0</td>\n",
       "      <td>0.0</td>\n",
       "      <td>0.0</td>\n",
       "      <td>0.0</td>\n",
       "      <td>0.0</td>\n",
       "    </tr>\n",
       "  </tbody>\n",
       "</table>\n",
       "</div>"
      ],
      "text/plain": [
       "   car_num  peak0318  nonpeak0318  peak0319  nonpeak0319  peak0320  \\\n",
       "0  云A00L27       1.0          0.0       0.0          0.0       0.0   \n",
       "1  云A088QL       2.0          0.0       0.0          0.0       0.0   \n",
       "\n",
       "   nonpeak0320  peak0321  nonpeak0321  peak0322  nonpeak0322  \n",
       "0          0.0       0.0          0.0       0.0          0.0  \n",
       "1          0.0       0.0          0.0       0.0          0.0  "
      ]
     },
     "execution_count": 3,
     "metadata": {},
     "output_type": "execute_result"
    }
   ],
   "source": [
    "df_all = pd.DataFrame([])\n",
    "for date in ['0318','0319','0320','0321','0322']:\n",
    "    print(\"正在处理{0}日期的数据\".format(date))\n",
    "    # 读取数据并做预处理，按照天为单位读取并处理\n",
    "    path = './数据/萧山市车牌识别数据/'\n",
    "    df = pd.read_csv(path+date+\".csv\")\n",
    "    df.drop(columns=['Unnamed: 0'],inplace=True)\n",
    "    df.rename(columns={'0':'car_num','1':'cap_date','2':'type','3':'dev_id','4':'dir','5':'road_id','6':'turn_id'},inplace=True)\n",
    "    # 删除识别错误的车牌\n",
    "    df = df[df['car_num'] != 'UNKNOW']\n",
    "    # 解决车辆在同一时间同一地点被重复检测问题\n",
    "    len1 = len(df)\n",
    "    df = df.drop_duplicates(subset=['car_num' , 'cap_date'])\n",
    "    print(\"重复数据占比为{0}\".format((len1-len(df)) / len1))\n",
    "    # 统计各个交叉口的分时段流量\n",
    "    #将电警表和过车数据表merge起来\n",
    "    df = pd.merge(df[['car_num','cap_date','dev_id']],dev_df[['camera_id','nodeid','lng84','lat84']],how = 'inner',left_on='dev_id',right_on='camera_id')\n",
    "    df.drop(columns=['camera_id'] , inplace=True)\n",
    "    # 早晚高峰出行天数比例、早晚高峰出行频次特征提取\n",
    "    # 提取出早晚高峰数据\n",
    "    df['ana_t'] = df[['cap_date']].applymap(lambda x:x[11:16])\n",
    "    df_peak = df[((df['ana_t'] >= '06:30')&(df['ana_t'] <= '10:00')) | ((df['ana_t'] >= '17:00')&(df['ana_t'] <= '19:30'))]\n",
    "    df_peak = df_peak.groupby(['car_num'])[['cap_date']].count().reset_index().rename(columns={'cap_date':'peak'+date})\n",
    "    # 提取出平峰时段数据\n",
    "    df_nonpeak = df[(df['ana_t']<'06:30')|(df['ana_t']>'19:30')|((df['ana_t'] >'10:00')&(df['ana_t']<='17:00'))]\n",
    "    df_nonpeak = df_nonpeak.groupby(['car_num'])[['cap_date']].count().reset_index().rename(columns={'cap_date':'nonpeak'+date})\n",
    "    df = pd.merge(df_peak,df_nonpeak,how='outer',on='car_num')\n",
    "    df = df.fillna(0)\n",
    "    if len(df_all) == 0:\n",
    "        df_all = copy.deepcopy(df)\n",
    "    else:\n",
    "        df_all = pd.merge(df_all , df , how='outer' , on='car_num')\n",
    "df_all = df_all.fillna(0)\n",
    "df_all.head(2)"
   ]
  },
  {
   "cell_type": "code",
   "execution_count": 7,
   "id": "af3d083c",
   "metadata": {
    "scrolled": true
   },
   "outputs": [
    {
     "name": "stdout",
     "output_type": "stream",
     "text": [
      "已经处理至0.0%。\n",
      "已经处理至4.11%。\n",
      "已经处理至8.23%。\n",
      "已经处理至12.34%。\n",
      "已经处理至16.46%。\n",
      "已经处理至20.57%。\n",
      "已经处理至24.69%。\n",
      "已经处理至28.8%。\n",
      "已经处理至32.92%。\n",
      "已经处理至37.03%。\n",
      "已经处理至41.15%。\n",
      "已经处理至45.26%。\n",
      "已经处理至49.38%。\n",
      "已经处理至53.49%。\n",
      "已经处理至57.61%。\n",
      "已经处理至61.72%。\n",
      "已经处理至65.84%。\n",
      "已经处理至69.95%。\n",
      "已经处理至74.06%。\n",
      "已经处理至78.18%。\n",
      "已经处理至82.29%。\n",
      "已经处理至86.41%。\n",
      "已经处理至90.52%。\n",
      "已经处理至94.64%。\n",
      "已经处理至98.75%。\n"
     ]
    },
    {
     "data": {
      "text/html": [
       "<div>\n",
       "<style scoped>\n",
       "    .dataframe tbody tr th:only-of-type {\n",
       "        vertical-align: middle;\n",
       "    }\n",
       "\n",
       "    .dataframe tbody tr th {\n",
       "        vertical-align: top;\n",
       "    }\n",
       "\n",
       "    .dataframe thead th {\n",
       "        text-align: right;\n",
       "    }\n",
       "</style>\n",
       "<table border=\"1\" class=\"dataframe\">\n",
       "  <thead>\n",
       "    <tr style=\"text-align: right;\">\n",
       "      <th></th>\n",
       "      <th>car_num</th>\n",
       "      <th>peak0318</th>\n",
       "      <th>nonpeak0318</th>\n",
       "      <th>peak0319</th>\n",
       "      <th>nonpeak0319</th>\n",
       "      <th>peak0320</th>\n",
       "      <th>nonpeak0320</th>\n",
       "      <th>peak0321</th>\n",
       "      <th>nonpeak0321</th>\n",
       "      <th>peak0322</th>\n",
       "      <th>nonpeak0322</th>\n",
       "      <th>feats</th>\n",
       "    </tr>\n",
       "  </thead>\n",
       "  <tbody>\n",
       "    <tr>\n",
       "      <th>0</th>\n",
       "      <td>云A00L27</td>\n",
       "      <td>1.0</td>\n",
       "      <td>0.0</td>\n",
       "      <td>0.0</td>\n",
       "      <td>0.0</td>\n",
       "      <td>0.0</td>\n",
       "      <td>0.0</td>\n",
       "      <td>0.0</td>\n",
       "      <td>0.0</td>\n",
       "      <td>0.0</td>\n",
       "      <td>0.0</td>\n",
       "      <td>(1.0, nan, 1, 0, 1, 1.0)</td>\n",
       "    </tr>\n",
       "    <tr>\n",
       "      <th>1</th>\n",
       "      <td>云A088QL</td>\n",
       "      <td>2.0</td>\n",
       "      <td>0.0</td>\n",
       "      <td>0.0</td>\n",
       "      <td>0.0</td>\n",
       "      <td>0.0</td>\n",
       "      <td>0.0</td>\n",
       "      <td>0.0</td>\n",
       "      <td>0.0</td>\n",
       "      <td>0.0</td>\n",
       "      <td>0.0</td>\n",
       "      <td>(2.0, nan, 1, 0, 1, 2.0)</td>\n",
       "    </tr>\n",
       "  </tbody>\n",
       "</table>\n",
       "</div>"
      ],
      "text/plain": [
       "   car_num  peak0318  nonpeak0318  peak0319  nonpeak0319  peak0320  \\\n",
       "0  云A00L27       1.0          0.0       0.0          0.0       0.0   \n",
       "1  云A088QL       2.0          0.0       0.0          0.0       0.0   \n",
       "\n",
       "   nonpeak0320  peak0321  nonpeak0321  peak0322  nonpeak0322  \\\n",
       "0          0.0       0.0          0.0       0.0          0.0   \n",
       "1          0.0       0.0          0.0       0.0          0.0   \n",
       "\n",
       "                      feats  \n",
       "0  (1.0, nan, 1, 0, 1, 1.0)  \n",
       "1  (2.0, nan, 1, 0, 1, 2.0)  "
      ]
     },
     "execution_count": 7,
     "metadata": {},
     "output_type": "execute_result"
    }
   ],
   "source": [
    "len1 = len(df_all)\n",
    "# 特征提取\n",
    "def getfeat(ser):\n",
    "    if ser.name % 100000 == 0:\n",
    "        print(\"已经处理至{0}%。\".format(round(ser.name / len1 *100, 2)))\n",
    "    # 将高峰和非高峰的被检测频次取均值\n",
    "    fre_peak = ser[['peak0318','peak0319','peak0320','peak0321','peak0322']][ser[['peak0318','peak0319','peak0320','peak0321','peak0322']]!=0].mean()\n",
    "    fre_nonpeak = ser[['nonpeak0318','nonpeak0319','nonpeak0320','nonpeak0321','nonpeak0322']][ser[['nonpeak0318','nonpeak0319','nonpeak0320','nonpeak0321','nonpeak0322']]!=0].mean()\n",
    "    # 提取高峰和非高峰出行天数\n",
    "    traday_nonpeak = len(ser[['nonpeak0318','nonpeak0319','nonpeak0320','nonpeak0321','nonpeak0322']][ser[['nonpeak0318','nonpeak0319','nonpeak0320','nonpeak0321','nonpeak0322']]!=0])\n",
    "    traday_peak = len(ser[['peak0318','peak0319','peak0320','peak0321','peak0322']][ser[['peak0318','peak0319','peak0320','peak0321','peak0322']]!=0])\n",
    "    # 出行天数和平均每天的被检测频次\n",
    "    tmp_list = []\n",
    "    traday =  0\n",
    "    for t in ['0318','0319','0320','0321','0322']:\n",
    "        tmp = sum(ser[['peak'+t,'nonpeak'+t]])\n",
    "        if tmp != 0:\n",
    "            traday+=1\n",
    "        tmp_list.append(tmp)\n",
    "    fre_avg = sum(tmp_list) / traday\n",
    "    return (fre_peak,fre_nonpeak,traday_peak,traday_nonpeak,traday,fre_avg)\n",
    "df_all['feats'] = df_all.apply(getfeat , axis = 1)\n",
    "df_all.head(2)"
   ]
  },
  {
   "cell_type": "code",
   "execution_count": 8,
   "id": "e8976949",
   "metadata": {},
   "outputs": [
    {
     "data": {
      "text/html": [
       "<div>\n",
       "<style scoped>\n",
       "    .dataframe tbody tr th:only-of-type {\n",
       "        vertical-align: middle;\n",
       "    }\n",
       "\n",
       "    .dataframe tbody tr th {\n",
       "        vertical-align: top;\n",
       "    }\n",
       "\n",
       "    .dataframe thead th {\n",
       "        text-align: right;\n",
       "    }\n",
       "</style>\n",
       "<table border=\"1\" class=\"dataframe\">\n",
       "  <thead>\n",
       "    <tr style=\"text-align: right;\">\n",
       "      <th></th>\n",
       "      <th>car_num</th>\n",
       "      <th>peak0318</th>\n",
       "      <th>nonpeak0318</th>\n",
       "      <th>peak0319</th>\n",
       "      <th>nonpeak0319</th>\n",
       "      <th>peak0320</th>\n",
       "      <th>nonpeak0320</th>\n",
       "      <th>peak0321</th>\n",
       "      <th>nonpeak0321</th>\n",
       "      <th>peak0322</th>\n",
       "      <th>nonpeak0322</th>\n",
       "      <th>feats</th>\n",
       "      <th>fre_peak</th>\n",
       "      <th>fre_nonpeak</th>\n",
       "      <th>traday_peak</th>\n",
       "      <th>traday_nonpeak</th>\n",
       "      <th>traday</th>\n",
       "      <th>fre_avg</th>\n",
       "    </tr>\n",
       "  </thead>\n",
       "  <tbody>\n",
       "    <tr>\n",
       "      <th>0</th>\n",
       "      <td>云A00L27</td>\n",
       "      <td>1.0</td>\n",
       "      <td>0.0</td>\n",
       "      <td>0.0</td>\n",
       "      <td>0.0</td>\n",
       "      <td>0.0</td>\n",
       "      <td>0.0</td>\n",
       "      <td>0.0</td>\n",
       "      <td>0.0</td>\n",
       "      <td>0.0</td>\n",
       "      <td>0.0</td>\n",
       "      <td>(1.0, nan, 1, 0, 1, 1.0)</td>\n",
       "      <td>1.0</td>\n",
       "      <td>NaN</td>\n",
       "      <td>1</td>\n",
       "      <td>0</td>\n",
       "      <td>1</td>\n",
       "      <td>1.0</td>\n",
       "    </tr>\n",
       "    <tr>\n",
       "      <th>1</th>\n",
       "      <td>云A088QL</td>\n",
       "      <td>2.0</td>\n",
       "      <td>0.0</td>\n",
       "      <td>0.0</td>\n",
       "      <td>0.0</td>\n",
       "      <td>0.0</td>\n",
       "      <td>0.0</td>\n",
       "      <td>0.0</td>\n",
       "      <td>0.0</td>\n",
       "      <td>0.0</td>\n",
       "      <td>0.0</td>\n",
       "      <td>(2.0, nan, 1, 0, 1, 2.0)</td>\n",
       "      <td>2.0</td>\n",
       "      <td>NaN</td>\n",
       "      <td>1</td>\n",
       "      <td>0</td>\n",
       "      <td>1</td>\n",
       "      <td>2.0</td>\n",
       "    </tr>\n",
       "  </tbody>\n",
       "</table>\n",
       "</div>"
      ],
      "text/plain": [
       "   car_num  peak0318  nonpeak0318  peak0319  nonpeak0319  peak0320  \\\n",
       "0  云A00L27       1.0          0.0       0.0          0.0       0.0   \n",
       "1  云A088QL       2.0          0.0       0.0          0.0       0.0   \n",
       "\n",
       "   nonpeak0320  peak0321  nonpeak0321  peak0322  nonpeak0322  \\\n",
       "0          0.0       0.0          0.0       0.0          0.0   \n",
       "1          0.0       0.0          0.0       0.0          0.0   \n",
       "\n",
       "                      feats  fre_peak  fre_nonpeak  traday_peak  \\\n",
       "0  (1.0, nan, 1, 0, 1, 1.0)       1.0          NaN            1   \n",
       "1  (2.0, nan, 1, 0, 1, 2.0)       2.0          NaN            1   \n",
       "\n",
       "   traday_nonpeak  traday  fre_avg  \n",
       "0               0       1      1.0  \n",
       "1               0       1      2.0  "
      ]
     },
     "execution_count": 8,
     "metadata": {},
     "output_type": "execute_result"
    }
   ],
   "source": [
    "df_all['fre_peak'] = df_all[['feats']].applymap(lambda x:x[0])\n",
    "df_all['fre_nonpeak'] = df_all[['feats']].applymap(lambda x:x[1])\n",
    "df_all['traday_peak'] = df_all[['feats']].applymap(lambda x:x[2])\n",
    "df_all['traday_nonpeak'] = df_all[['feats']].applymap(lambda x:x[3])\n",
    "df_all['traday'] = df_all[['feats']].applymap(lambda x:x[4])\n",
    "df_all['fre_avg'] = df_all[['feats']].applymap(lambda x:x[5])\n",
    "# 将提取的feature保存起来\n",
    "df_all.to_csv(\"./数据/车辆画像特征.csv\",index=False,encoding='gbk')\n",
    "df_all.head(2)"
   ]
  },
  {
   "cell_type": "markdown",
   "id": "d4065c12",
   "metadata": {},
   "source": [
    "# 2.特征分布分析"
   ]
  },
  {
   "cell_type": "code",
   "execution_count": 3,
   "id": "a677bce7",
   "metadata": {},
   "outputs": [
    {
     "data": {
      "text/html": [
       "<div>\n",
       "<style scoped>\n",
       "    .dataframe tbody tr th:only-of-type {\n",
       "        vertical-align: middle;\n",
       "    }\n",
       "\n",
       "    .dataframe tbody tr th {\n",
       "        vertical-align: top;\n",
       "    }\n",
       "\n",
       "    .dataframe thead th {\n",
       "        text-align: right;\n",
       "    }\n",
       "</style>\n",
       "<table border=\"1\" class=\"dataframe\">\n",
       "  <thead>\n",
       "    <tr style=\"text-align: right;\">\n",
       "      <th></th>\n",
       "      <th>car_num</th>\n",
       "      <th>peak0318</th>\n",
       "      <th>nonpeak0318</th>\n",
       "      <th>peak0319</th>\n",
       "      <th>nonpeak0319</th>\n",
       "      <th>peak0320</th>\n",
       "      <th>nonpeak0320</th>\n",
       "      <th>peak0321</th>\n",
       "      <th>nonpeak0321</th>\n",
       "      <th>peak0322</th>\n",
       "      <th>nonpeak0322</th>\n",
       "      <th>feats</th>\n",
       "      <th>fre_peak</th>\n",
       "      <th>fre_nonpeak</th>\n",
       "      <th>traday_peak</th>\n",
       "      <th>traday_nonpeak</th>\n",
       "      <th>traday</th>\n",
       "      <th>fre_avg</th>\n",
       "    </tr>\n",
       "  </thead>\n",
       "  <tbody>\n",
       "    <tr>\n",
       "      <th>0</th>\n",
       "      <td>云A00L27</td>\n",
       "      <td>1.0</td>\n",
       "      <td>0.0</td>\n",
       "      <td>0.0</td>\n",
       "      <td>0.0</td>\n",
       "      <td>0.0</td>\n",
       "      <td>0.0</td>\n",
       "      <td>0.0</td>\n",
       "      <td>0.0</td>\n",
       "      <td>0.0</td>\n",
       "      <td>0.0</td>\n",
       "      <td>(1.0, nan, 1, 0, 1, 1.0)</td>\n",
       "      <td>1.0</td>\n",
       "      <td>0.0</td>\n",
       "      <td>1</td>\n",
       "      <td>0</td>\n",
       "      <td>1</td>\n",
       "      <td>1.0</td>\n",
       "    </tr>\n",
       "    <tr>\n",
       "      <th>1</th>\n",
       "      <td>云A088QL</td>\n",
       "      <td>2.0</td>\n",
       "      <td>0.0</td>\n",
       "      <td>0.0</td>\n",
       "      <td>0.0</td>\n",
       "      <td>0.0</td>\n",
       "      <td>0.0</td>\n",
       "      <td>0.0</td>\n",
       "      <td>0.0</td>\n",
       "      <td>0.0</td>\n",
       "      <td>0.0</td>\n",
       "      <td>(2.0, nan, 1, 0, 1, 2.0)</td>\n",
       "      <td>2.0</td>\n",
       "      <td>0.0</td>\n",
       "      <td>1</td>\n",
       "      <td>0</td>\n",
       "      <td>1</td>\n",
       "      <td>2.0</td>\n",
       "    </tr>\n",
       "  </tbody>\n",
       "</table>\n",
       "</div>"
      ],
      "text/plain": [
       "   car_num  peak0318  nonpeak0318  peak0319  nonpeak0319  peak0320  \\\n",
       "0  云A00L27       1.0          0.0       0.0          0.0       0.0   \n",
       "1  云A088QL       2.0          0.0       0.0          0.0       0.0   \n",
       "\n",
       "   nonpeak0320  peak0321  nonpeak0321  peak0322  nonpeak0322  \\\n",
       "0          0.0       0.0          0.0       0.0          0.0   \n",
       "1          0.0       0.0          0.0       0.0          0.0   \n",
       "\n",
       "                      feats  fre_peak  fre_nonpeak  traday_peak  \\\n",
       "0  (1.0, nan, 1, 0, 1, 1.0)       1.0          0.0            1   \n",
       "1  (2.0, nan, 1, 0, 1, 2.0)       2.0          0.0            1   \n",
       "\n",
       "   traday_nonpeak  traday  fre_avg  \n",
       "0               0       1      1.0  \n",
       "1               0       1      2.0  "
      ]
     },
     "execution_count": 3,
     "metadata": {},
     "output_type": "execute_result"
    }
   ],
   "source": [
    "df=pd.read_csv(\"./数据/车辆画像特征.csv\",encoding='gbk')\n",
    "df.fillna(0,inplace=True)\n",
    "df.head(2)"
   ]
  },
  {
   "cell_type": "code",
   "execution_count": 4,
   "id": "5a2d2d65",
   "metadata": {
    "scrolled": false
   },
   "outputs": [
    {
     "data": {
      "text/plain": [
       "Text(0.5, 0, '$N_{t}$')"
      ]
     },
     "execution_count": 4,
     "metadata": {},
     "output_type": "execute_result"
    },
    {
     "data": {
      "image/png": "[encoded data removed]",
      "text/plain": [
       "<Figure size 2100x600 with 3 Axes>"
      ]
     },
     "metadata": {
      "needs_background": "light"
     },
     "output_type": "display_data"
    }
   ],
   "source": [
    "plt.rcParams['figure.dpi'] = 150 #分辨率\n",
    "fig = plt.figure(figsize=(14,4))\n",
    "ax1 = plt.subplot(131)\n",
    "ax1.set_xlabel(\"$N_{tp}$\")\n",
    "ax1.set_ylabel(\"车辆数\")\n",
    "ax1.hist(df['traday_peak'],bins = 5)\n",
    "ax2 = plt.subplot(132)\n",
    "ax2.hist(df['traday_nonpeak'],bins=5)\n",
    "ax2.set_xlabel(\"$N_{to}$\")\n",
    "ax3 = plt.subplot(133)\n",
    "ax3.hist(df['traday'],bins=5)\n",
    "ax3.set_xlabel(\"$N_{t}$\")"
   ]
  },
  {
   "cell_type": "code",
   "execution_count": 6,
   "id": "fb0ec2c6",
   "metadata": {
    "scrolled": true
   },
   "outputs": [
    {
     "name": "stdout",
     "output_type": "stream",
     "text": [
      "1558287 872028\n"
     ]
    }
   ],
   "source": [
    "# 将出行只有一天的车辆去除\n",
    "df_tem=df[df['traday'] == 1]\n",
    "df_other=df[df['traday'] > 1]\n",
    "print(len(df_tem),len(df_other))"
   ]
  },
  {
   "cell_type": "code",
   "execution_count": 8,
   "id": "4280f51b",
   "metadata": {
    "scrolled": false
   },
   "outputs": [
    {
     "data": {
      "text/plain": [
       "Text(0.5, 0, '$F_{t}$')"
      ]
     },
     "execution_count": 8,
     "metadata": {},
     "output_type": "execute_result"
    },
    {
     "data": {
      "image/png": "[encoded data removed]",
      "text/plain": [
       "<Figure size 2100x1200 with 6 Axes>"
      ]
     },
     "metadata": {
      "needs_background": "light"
     },
     "output_type": "display_data"
    }
   ],
   "source": [
    "plt.rcParams['figure.dpi'] = 150 #分辨率\n",
    "fig = plt.figure(figsize=(14,8))\n",
    "ax1 = plt.subplot(231)\n",
    "ax1.set_xlabel(\"Travel days in the peak hours\")\n",
    "ax1.set_ylabel(\"车辆数\")\n",
    "ax1.hist(df_other['traday_peak'],bins = 4)\n",
    "ax2 = plt.subplot(232)\n",
    "ax2.hist(df_other['traday_nonpeak'],bins=4)\n",
    "ax2.set_xlabel(\"Travel days in the off-peak hours\")\n",
    "ax3 = plt.subplot(233)\n",
    "ax3.hist(df_other['traday'],bins=4)\n",
    "ax3.set_xlabel(\"Travel days\")\n",
    "ax4 = plt.subplot(234)\n",
    "ax4.hist(df_other[df_other['fre_peak'] <= 50]['fre_peak'],bins=50)\n",
    "ax4.set_xlabel(\"$F_{tp}$\")\n",
    "ax4.set_ylabel(\"车辆数\")\n",
    "ax5 = plt.subplot(235)\n",
    "ax5.hist(df_other[df_other['fre_nonpeak'] <= 50]['fre_nonpeak'],bins=50)\n",
    "ax5.set_xlabel(\"$F_{to}$\")\n",
    "ax6 = plt.subplot(236)\n",
    "ax6.hist(df_other[df_other['fre_avg'] <= 50]['fre_avg'],bins=50)\n",
    "ax6.set_xlabel(\"$F_{t}$\")"
   ]
  },
  {
   "cell_type": "code",
   "execution_count": 11,
   "id": "e35724e0",
   "metadata": {},
   "outputs": [
    {
     "name": "stdout",
     "output_type": "stream",
     "text": [
      "430840 441188\n"
     ]
    }
   ],
   "source": [
    "# 将仅仅给检测到1-2次的车辆去除，这部分车辆往往是过境车辆\n",
    "df_transit = df_other[df_other['fre_avg']<=2]\n",
    "df_ana = df_other[df_other['fre_avg']>2]\n",
    "print(len(df_transit),len(df_ana))"
   ]
  },
  {
   "cell_type": "code",
   "execution_count": 18,
   "id": "16818bf5",
   "metadata": {
    "scrolled": false
   },
   "outputs": [
    {
     "data": {
      "text/plain": [
       "Text(0.5, 0, 'Detected times')"
      ]
     },
     "execution_count": 18,
     "metadata": {},
     "output_type": "execute_result"
    },
    {
     "data": {
      "image/png": "[encoded data removed]",
      "text/plain": [
       "<Figure size 2100x1200 with 6 Axes>"
      ]
     },
     "metadata": {
      "needs_background": "light"
     },
     "output_type": "display_data"
    }
   ],
   "source": [
    "plt.rcParams['figure.dpi'] = 150 #分辨率\n",
    "fig = plt.figure(figsize=(14,8))\n",
    "ax1 = plt.subplot(231)\n",
    "ax1.set_xlabel(\"Travel days in the peak hours\")\n",
    "ax1.set_ylabel(\"Vehicles\")\n",
    "ax1.hist(df_ana['traday_peak'],bins = 4)\n",
    "ax2 = plt.subplot(232)\n",
    "ax2.hist(df_ana['traday_nonpeak'],bins=4)\n",
    "ax2.set_xlabel(\"Travel days in the off-peak hours\")\n",
    "ax3 = plt.subplot(233)\n",
    "ax3.hist(df_ana['traday'],bins=4)\n",
    "ax3.set_xlabel(\"Travel days\")\n",
    "ax4 = plt.subplot(234)\n",
    "ax4.hist(df_ana[df_ana['fre_peak'] <= 50]['fre_peak'],bins=50)\n",
    "ax4.set_xlabel(\"Detected times in the peak hours\")\n",
    "ax4.set_ylabel(\"Vehicles\")\n",
    "ax5 = plt.subplot(235)\n",
    "ax5.hist(df_ana[df_ana['fre_nonpeak'] <= 50]['fre_nonpeak'],bins=50)\n",
    "ax5.set_xlabel(\"Detected times in the off-peak hours\")\n",
    "ax6 = plt.subplot(236)\n",
    "ax6.hist(df_ana[df_ana['fre_avg'] <= 50]['fre_avg'],bins=50)\n",
    "ax6.set_xlabel(\"Detected times\")"
   ]
  },
  {
   "cell_type": "markdown",
   "id": "93048d30",
   "metadata": {},
   "source": [
    "# 3.聚类分析\n",
    "## 3.1确定最优聚类数目\n",
    "由于总样本量较大，共包含279973辆车，因此确定聚类数目的时候不使用整个样本，以10%抽样率进行随机抽样，然后利用敏感性分析确定最优初始聚类数目。"
   ]
  },
  {
   "cell_type": "code",
   "execution_count": 12,
   "id": "3387e011",
   "metadata": {
    "scrolled": false
   },
   "outputs": [
    {
     "data": {
      "text/plain": [
       "array([[-0.62662672, -0.51761603, -1.45297613, -0.11809905, -0.58919283,\n",
       "        -0.73881218],\n",
       "       [-0.78880105, -0.66103545,  1.19961542,  1.91854409,  1.06540749,\n",
       "        -0.71279947],\n",
       "       [-0.25594253,  0.19948104,  1.19961542, -0.7969801 ,  1.06540749,\n",
       "        -0.33821642],\n",
       "       ...,\n",
       "       [ 0.55492913, -0.84356925,  1.19961542, -1.47586115,  1.06540749,\n",
       "         0.0831895 ],\n",
       "       [-0.82934463, -0.615402  ,  0.53646754,  1.23966304,  1.06540749,\n",
       "        -0.75962235],\n",
       "       [-0.25015059, -0.45242539,  0.53646754, -0.7969801 ,  1.06540749,\n",
       "        -0.50990032]])"
      ]
     },
     "execution_count": 12,
     "metadata": {},
     "output_type": "execute_result"
    }
   ],
   "source": [
    "# 归一化处理\n",
    "# 对拓扑重要性和实际重要性都进行归一化处理\n",
    "from sklearn.cluster import KMeans\n",
    "from sklearn.metrics import silhouette_score\n",
    "df_sample = df_ana.sample(frac=0.1,axis=0,random_state=0)\n",
    "# 对数据进行min max标准化\n",
    "scaler = preprocessing.StandardScaler()\n",
    "data = scaler.fit_transform(df_sample[['fre_peak','fre_nonpeak','traday_peak','traday_nonpeak','traday','fre_avg']].values)\n",
    "data"
   ]
  },
  {
   "cell_type": "code",
   "execution_count": 13,
   "id": "41fbd6f1",
   "metadata": {
    "scrolled": true
   },
   "outputs": [
    {
     "name": "stderr",
     "output_type": "stream",
     "text": [
      "E:\\Anaconda\\lib\\site-packages\\sklearn\\cluster\\_kmeans.py:788: FutureWarning: 'precompute_distances' was deprecated in version 0.23 and will be removed in 1.0 (renaming of 0.25). It has no effect\n",
      "  \". It has no effect\", FutureWarning)\n",
      "E:\\Anaconda\\lib\\site-packages\\sklearn\\cluster\\_kmeans.py:793: FutureWarning: 'n_jobs' was deprecated in version 0.23 and will be removed in 1.0 (renaming of 0.25).\n",
      "  \" removed in 1.0 (renaming of 0.25).\", FutureWarning)\n"
     ]
    },
    {
     "name": "stdout",
     "output_type": "stream",
     "text": [
      "2 clustering method has been successfully run\n"
     ]
    },
    {
     "name": "stderr",
     "output_type": "stream",
     "text": [
      "E:\\Anaconda\\lib\\site-packages\\sklearn\\cluster\\_kmeans.py:788: FutureWarning: 'precompute_distances' was deprecated in version 0.23 and will be removed in 1.0 (renaming of 0.25). It has no effect\n",
      "  \". It has no effect\", FutureWarning)\n",
      "E:\\Anaconda\\lib\\site-packages\\sklearn\\cluster\\_kmeans.py:793: FutureWarning: 'n_jobs' was deprecated in version 0.23 and will be removed in 1.0 (renaming of 0.25).\n",
      "  \" removed in 1.0 (renaming of 0.25).\", FutureWarning)\n"
     ]
    },
    {
     "name": "stdout",
     "output_type": "stream",
     "text": [
      "3 clustering method has been successfully run\n"
     ]
    },
    {
     "name": "stderr",
     "output_type": "stream",
     "text": [
      "E:\\Anaconda\\lib\\site-packages\\sklearn\\cluster\\_kmeans.py:788: FutureWarning: 'precompute_distances' was deprecated in version 0.23 and will be removed in 1.0 (renaming of 0.25). It has no effect\n",
      "  \". It has no effect\", FutureWarning)\n",
      "E:\\Anaconda\\lib\\site-packages\\sklearn\\cluster\\_kmeans.py:793: FutureWarning: 'n_jobs' was deprecated in version 0.23 and will be removed in 1.0 (renaming of 0.25).\n",
      "  \" removed in 1.0 (renaming of 0.25).\", FutureWarning)\n"
     ]
    },
    {
     "name": "stdout",
     "output_type": "stream",
     "text": [
      "4 clustering method has been successfully run\n"
     ]
    },
    {
     "name": "stderr",
     "output_type": "stream",
     "text": [
      "E:\\Anaconda\\lib\\site-packages\\sklearn\\cluster\\_kmeans.py:788: FutureWarning: 'precompute_distances' was deprecated in version 0.23 and will be removed in 1.0 (renaming of 0.25). It has no effect\n",
      "  \". It has no effect\", FutureWarning)\n",
      "E:\\Anaconda\\lib\\site-packages\\sklearn\\cluster\\_kmeans.py:793: FutureWarning: 'n_jobs' was deprecated in version 0.23 and will be removed in 1.0 (renaming of 0.25).\n",
      "  \" removed in 1.0 (renaming of 0.25).\", FutureWarning)\n"
     ]
    },
    {
     "name": "stdout",
     "output_type": "stream",
     "text": [
      "5 clustering method has been successfully run\n"
     ]
    },
    {
     "name": "stderr",
     "output_type": "stream",
     "text": [
      "E:\\Anaconda\\lib\\site-packages\\sklearn\\cluster\\_kmeans.py:788: FutureWarning: 'precompute_distances' was deprecated in version 0.23 and will be removed in 1.0 (renaming of 0.25). It has no effect\n",
      "  \". It has no effect\", FutureWarning)\n",
      "E:\\Anaconda\\lib\\site-packages\\sklearn\\cluster\\_kmeans.py:793: FutureWarning: 'n_jobs' was deprecated in version 0.23 and will be removed in 1.0 (renaming of 0.25).\n",
      "  \" removed in 1.0 (renaming of 0.25).\", FutureWarning)\n"
     ]
    },
    {
     "name": "stdout",
     "output_type": "stream",
     "text": [
      "6 clustering method has been successfully run\n"
     ]
    },
    {
     "name": "stderr",
     "output_type": "stream",
     "text": [
      "E:\\Anaconda\\lib\\site-packages\\sklearn\\cluster\\_kmeans.py:788: FutureWarning: 'precompute_distances' was deprecated in version 0.23 and will be removed in 1.0 (renaming of 0.25). It has no effect\n",
      "  \". It has no effect\", FutureWarning)\n",
      "E:\\Anaconda\\lib\\site-packages\\sklearn\\cluster\\_kmeans.py:793: FutureWarning: 'n_jobs' was deprecated in version 0.23 and will be removed in 1.0 (renaming of 0.25).\n",
      "  \" removed in 1.0 (renaming of 0.25).\", FutureWarning)\n"
     ]
    },
    {
     "name": "stdout",
     "output_type": "stream",
     "text": [
      "7 clustering method has been successfully run\n"
     ]
    },
    {
     "name": "stderr",
     "output_type": "stream",
     "text": [
      "E:\\Anaconda\\lib\\site-packages\\sklearn\\cluster\\_kmeans.py:788: FutureWarning: 'precompute_distances' was deprecated in version 0.23 and will be removed in 1.0 (renaming of 0.25). It has no effect\n",
      "  \". It has no effect\", FutureWarning)\n",
      "E:\\Anaconda\\lib\\site-packages\\sklearn\\cluster\\_kmeans.py:793: FutureWarning: 'n_jobs' was deprecated in version 0.23 and will be removed in 1.0 (renaming of 0.25).\n",
      "  \" removed in 1.0 (renaming of 0.25).\", FutureWarning)\n"
     ]
    },
    {
     "name": "stdout",
     "output_type": "stream",
     "text": [
      "8 clustering method has been successfully run\n"
     ]
    },
    {
     "name": "stderr",
     "output_type": "stream",
     "text": [
      "E:\\Anaconda\\lib\\site-packages\\sklearn\\cluster\\_kmeans.py:788: FutureWarning: 'precompute_distances' was deprecated in version 0.23 and will be removed in 1.0 (renaming of 0.25). It has no effect\n",
      "  \". It has no effect\", FutureWarning)\n",
      "E:\\Anaconda\\lib\\site-packages\\sklearn\\cluster\\_kmeans.py:793: FutureWarning: 'n_jobs' was deprecated in version 0.23 and will be removed in 1.0 (renaming of 0.25).\n",
      "  \" removed in 1.0 (renaming of 0.25).\", FutureWarning)\n"
     ]
    },
    {
     "name": "stdout",
     "output_type": "stream",
     "text": [
      "9 clustering method has been successfully run\n"
     ]
    },
    {
     "name": "stderr",
     "output_type": "stream",
     "text": [
      "E:\\Anaconda\\lib\\site-packages\\sklearn\\cluster\\_kmeans.py:788: FutureWarning: 'precompute_distances' was deprecated in version 0.23 and will be removed in 1.0 (renaming of 0.25). It has no effect\n",
      "  \". It has no effect\", FutureWarning)\n",
      "E:\\Anaconda\\lib\\site-packages\\sklearn\\cluster\\_kmeans.py:793: FutureWarning: 'n_jobs' was deprecated in version 0.23 and will be removed in 1.0 (renaming of 0.25).\n",
      "  \" removed in 1.0 (renaming of 0.25).\", FutureWarning)\n"
     ]
    },
    {
     "name": "stdout",
     "output_type": "stream",
     "text": [
      "10 clustering method has been successfully run\n"
     ]
    },
    {
     "name": "stderr",
     "output_type": "stream",
     "text": [
      "E:\\Anaconda\\lib\\site-packages\\sklearn\\cluster\\_kmeans.py:788: FutureWarning: 'precompute_distances' was deprecated in version 0.23 and will be removed in 1.0 (renaming of 0.25). It has no effect\n",
      "  \". It has no effect\", FutureWarning)\n",
      "E:\\Anaconda\\lib\\site-packages\\sklearn\\cluster\\_kmeans.py:793: FutureWarning: 'n_jobs' was deprecated in version 0.23 and will be removed in 1.0 (renaming of 0.25).\n",
      "  \" removed in 1.0 (renaming of 0.25).\", FutureWarning)\n"
     ]
    },
    {
     "name": "stdout",
     "output_type": "stream",
     "text": [
      "11 clustering method has been successfully run\n"
     ]
    },
    {
     "name": "stderr",
     "output_type": "stream",
     "text": [
      "E:\\Anaconda\\lib\\site-packages\\sklearn\\cluster\\_kmeans.py:788: FutureWarning: 'precompute_distances' was deprecated in version 0.23 and will be removed in 1.0 (renaming of 0.25). It has no effect\n",
      "  \". It has no effect\", FutureWarning)\n",
      "E:\\Anaconda\\lib\\site-packages\\sklearn\\cluster\\_kmeans.py:793: FutureWarning: 'n_jobs' was deprecated in version 0.23 and will be removed in 1.0 (renaming of 0.25).\n",
      "  \" removed in 1.0 (renaming of 0.25).\", FutureWarning)\n"
     ]
    },
    {
     "name": "stdout",
     "output_type": "stream",
     "text": [
      "12 clustering method has been successfully run\n"
     ]
    },
    {
     "data": {
      "image/png": "[encoded data removed]",
      "text/plain": [
       "<Figure size 900x600 with 1 Axes>"
      ]
     },
     "metadata": {
      "needs_background": "light"
     },
     "output_type": "display_data"
    }
   ],
   "source": [
    "plt.rcParams['figure.dpi'] = 150 #分辨率\n",
    "Scores = [] # 存储不同初始聚类数目的轮廓系数值\n",
    "for k in range(2,13):  \n",
    "    estimator = KMeans(n_clusters=k,init='k-means++', n_init=10, max_iter=300, tol=0.0001, \n",
    "                       precompute_distances='auto', verbose=0, random_state=0, copy_x=True, n_jobs=-1, \n",
    "                       algorithm='auto')  # 构造聚类器  \n",
    "    labels = estimator.fit_predict(data)  \n",
    "    Scores.append(silhouette_score(data , labels , random_state=0))  \n",
    "    print(\"{0} clustering method has been successfully run\".format(k))\n",
    "X = range(2,13)  \n",
    "plt.xlabel('聚类数目')  \n",
    "plt.ylabel('轮廓系数')  \n",
    "plt.plot(X,Scores,'o-')  \n",
    "plt.show()  "
   ]
  },
  {
   "cell_type": "markdown",
   "id": "f83721a4",
   "metadata": {},
   "source": [
    "## 3.2聚类分析，进而分析各个簇的出行行为"
   ]
  },
  {
   "cell_type": "code",
   "execution_count": 23,
   "id": "2a5c0713",
   "metadata": {
    "scrolled": true
   },
   "outputs": [
    {
     "name": "stderr",
     "output_type": "stream",
     "text": [
      "E:\\Anaconda\\lib\\site-packages\\sklearn\\cluster\\_kmeans.py:788: FutureWarning: 'precompute_distances' was deprecated in version 0.23 and will be removed in 1.0 (renaming of 0.25). It has no effect\n",
      "  \". It has no effect\", FutureWarning)\n",
      "E:\\Anaconda\\lib\\site-packages\\sklearn\\cluster\\_kmeans.py:793: FutureWarning: 'n_jobs' was deprecated in version 0.23 and will be removed in 1.0 (renaming of 0.25).\n",
      "  \" removed in 1.0 (renaming of 0.25).\", FutureWarning)\n"
     ]
    },
    {
     "name": "stdout",
     "output_type": "stream",
     "text": [
      "0.3355986372522594\n"
     ]
    },
    {
     "name": "stderr",
     "output_type": "stream",
     "text": [
      "E:\\Anaconda\\lib\\site-packages\\ipykernel_launcher.py:10: SettingWithCopyWarning: \n",
      "A value is trying to be set on a copy of a slice from a DataFrame.\n",
      "Try using .loc[row_indexer,col_indexer] = value instead\n",
      "\n",
      "See the caveats in the documentation: https://pandas.pydata.org/pandas-docs/stable/user_guide/indexing.html#returning-a-view-versus-a-copy\n",
      "  # Remove the CWD from sys.path while we load stuff.\n"
     ]
    },
    {
     "data": {
      "text/html": [
       "<div>\n",
       "<style scoped>\n",
       "    .dataframe tbody tr th:only-of-type {\n",
       "        vertical-align: middle;\n",
       "    }\n",
       "\n",
       "    .dataframe tbody tr th {\n",
       "        vertical-align: top;\n",
       "    }\n",
       "\n",
       "    .dataframe thead th {\n",
       "        text-align: right;\n",
       "    }\n",
       "</style>\n",
       "<table border=\"1\" class=\"dataframe\">\n",
       "  <thead>\n",
       "    <tr style=\"text-align: right;\">\n",
       "      <th></th>\n",
       "      <th>car_num</th>\n",
       "      <th>peak0318</th>\n",
       "      <th>nonpeak0318</th>\n",
       "      <th>peak0319</th>\n",
       "      <th>nonpeak0319</th>\n",
       "      <th>peak0320</th>\n",
       "      <th>nonpeak0320</th>\n",
       "      <th>peak0321</th>\n",
       "      <th>nonpeak0321</th>\n",
       "      <th>peak0322</th>\n",
       "      <th>nonpeak0322</th>\n",
       "      <th>feats</th>\n",
       "      <th>fre_peak</th>\n",
       "      <th>fre_nonpeak</th>\n",
       "      <th>traday_peak</th>\n",
       "      <th>traday_nonpeak</th>\n",
       "      <th>traday</th>\n",
       "      <th>fre_avg</th>\n",
       "      <th>labels</th>\n",
       "    </tr>\n",
       "  </thead>\n",
       "  <tbody>\n",
       "    <tr>\n",
       "      <th>3</th>\n",
       "      <td>云A114QQ</td>\n",
       "      <td>2.0</td>\n",
       "      <td>27.0</td>\n",
       "      <td>3.0</td>\n",
       "      <td>7.0</td>\n",
       "      <td>9.0</td>\n",
       "      <td>9.0</td>\n",
       "      <td>13.0</td>\n",
       "      <td>33.0</td>\n",
       "      <td>5.0</td>\n",
       "      <td>6.0</td>\n",
       "      <td>(6.4, 16.4, 5, 5, 5, 22.8)</td>\n",
       "      <td>6.4</td>\n",
       "      <td>16.40</td>\n",
       "      <td>5</td>\n",
       "      <td>5</td>\n",
       "      <td>5</td>\n",
       "      <td>22.8</td>\n",
       "      <td>1</td>\n",
       "    </tr>\n",
       "    <tr>\n",
       "      <th>6</th>\n",
       "      <td>云A1J1J9</td>\n",
       "      <td>6.0</td>\n",
       "      <td>17.0</td>\n",
       "      <td>3.0</td>\n",
       "      <td>0.0</td>\n",
       "      <td>0.0</td>\n",
       "      <td>4.0</td>\n",
       "      <td>0.0</td>\n",
       "      <td>1.0</td>\n",
       "      <td>0.0</td>\n",
       "      <td>1.0</td>\n",
       "      <td>(4.5, 5.75, 2, 4, 5, 6.4)</td>\n",
       "      <td>4.5</td>\n",
       "      <td>5.75</td>\n",
       "      <td>2</td>\n",
       "      <td>4</td>\n",
       "      <td>5</td>\n",
       "      <td>6.4</td>\n",
       "      <td>1</td>\n",
       "    </tr>\n",
       "  </tbody>\n",
       "</table>\n",
       "</div>"
      ],
      "text/plain": [
       "   car_num  peak0318  nonpeak0318  peak0319  nonpeak0319  peak0320  \\\n",
       "3  云A114QQ       2.0         27.0       3.0          7.0       9.0   \n",
       "6  云A1J1J9       6.0         17.0       3.0          0.0       0.0   \n",
       "\n",
       "   nonpeak0320  peak0321  nonpeak0321  peak0322  nonpeak0322  \\\n",
       "3          9.0      13.0         33.0       5.0          6.0   \n",
       "6          4.0       0.0          1.0       0.0          1.0   \n",
       "\n",
       "                        feats  fre_peak  fre_nonpeak  traday_peak  \\\n",
       "3  (6.4, 16.4, 5, 5, 5, 22.8)       6.4        16.40            5   \n",
       "6   (4.5, 5.75, 2, 4, 5, 6.4)       4.5         5.75            2   \n",
       "\n",
       "   traday_nonpeak  traday  fre_avg  labels  \n",
       "3               5       5     22.8       1  \n",
       "6               4       5      6.4       1  "
      ]
     },
     "execution_count": 23,
     "metadata": {},
     "output_type": "execute_result"
    }
   ],
   "source": [
    "# 将整个数据集标准化\n",
    "scaler = preprocessing.StandardScaler()\n",
    "data = scaler.fit_transform(df_ana[['fre_peak','fre_nonpeak','traday_peak','traday_nonpeak','traday','fre_avg']].values)\n",
    "# 聚类成3个簇看一下结果\n",
    "estimator = KMeans(n_clusters=3,init='k-means++', n_init=10, max_iter=300, tol=0.0001, \n",
    "                       precompute_distances='auto', verbose=0, random_state=0, copy_x=True, n_jobs=-1, \n",
    "                       algorithm='auto')  # 构造聚类器\n",
    "labels = estimator.fit_predict(data)\n",
    "print(silhouette_score(data , labels , random_state=0))\n",
    "df_ana['labels'] = labels\n",
    "df_ana.head(2)"
   ]
  },
  {
   "cell_type": "code",
   "execution_count": 25,
   "id": "44b6be3a",
   "metadata": {},
   "outputs": [],
   "source": [
    "# 将各种结果都保存下\n",
    "path = './数据/车辆画像结果/'\n",
    "df_tem.to_csv(path+\"临时办事车辆.csv\",index=False,encoding='gbk')  # 一周内仅仅出现一天的车辆\n",
    "df_transit.to_csv(path+'频繁过境车辆.csv',index=False,encoding='gbk') # 一周出现大于一天，日均被检测频次小于等于2次的车辆\n",
    "df_ana.to_csv(path+\"聚类画像结果.csv\",index=False,encoding='gbk') # 聚类画像结果"
   ]
  },
  {
   "cell_type": "code",
   "execution_count": 26,
   "id": "6622a000",
   "metadata": {
    "scrolled": true
   },
   "outputs": [
    {
     "name": "stdout",
     "output_type": "stream",
     "text": [
      "            fre_peak    fre_nonpeak    traday_peak  traday_nonpeak  \\\n",
      "count  193826.000000  193826.000000  193826.000000   193826.000000   \n",
      "mean        5.790429       5.549788       1.796565        1.530785   \n",
      "std         5.270249       5.697408       0.848259        0.971135   \n",
      "min         0.000000       0.000000       0.000000        0.000000   \n",
      "25%         2.000000       1.333333       1.000000        1.000000   \n",
      "50%         4.000000       4.000000       2.000000        2.000000   \n",
      "75%         8.000000       8.000000       2.000000        2.000000   \n",
      "max        46.000000      51.000000       3.000000        5.000000   \n",
      "\n",
      "              traday        fre_avg  \n",
      "count  193826.000000  193826.000000  \n",
      "mean        2.512336       8.567697  \n",
      "std         0.616966       6.053068  \n",
      "min         2.000000       2.200000  \n",
      "25%         2.000000       3.666667  \n",
      "50%         2.000000       6.666667  \n",
      "75%         3.000000      11.666667  \n",
      "max         5.000000      41.500000  \n",
      "           fre_peak    fre_nonpeak    traday_peak  traday_nonpeak  \\\n",
      "count  202701.00000  202701.000000  202701.000000   202701.000000   \n",
      "mean        7.38902       4.703079       4.284592        2.499075   \n",
      "std         5.15616       4.442507       0.861561        1.585767   \n",
      "min         1.00000       0.000000       1.000000        0.000000   \n",
      "25%         3.00000       1.333333       4.000000        1.000000   \n",
      "50%         6.20000       3.250000       5.000000        3.000000   \n",
      "75%        10.40000       7.000000       5.000000        4.000000   \n",
      "max        34.00000      41.000000       5.000000        5.000000   \n",
      "\n",
      "              traday        fre_avg  \n",
      "count  202701.000000  202701.000000  \n",
      "mean        4.680194       9.914220  \n",
      "std         0.466402       6.151218  \n",
      "min         4.000000       2.200000  \n",
      "25%         4.000000       4.400000  \n",
      "50%         5.000000       8.750000  \n",
      "75%         5.000000      14.400000  \n",
      "max         5.000000      30.200000  \n",
      "           fre_peak   fre_nonpeak   traday_peak  traday_nonpeak        traday  \\\n",
      "count  44661.000000  44661.000000  44661.000000    44661.000000  44661.000000   \n",
      "mean      24.920412     19.049270      4.298919        3.519178      4.547144   \n",
      "std       14.474131     14.320007      1.077073        1.383114      0.822380   \n",
      "min        0.000000      0.000000      0.000000        0.000000      2.000000   \n",
      "25%       16.400000     11.400000      4.000000        2.000000      4.000000   \n",
      "50%       22.000000     16.333333      5.000000        4.000000      5.000000   \n",
      "75%       29.500000     23.000000      5.000000        5.000000      5.000000   \n",
      "max      396.666667    333.000000      5.000000        5.000000      5.000000   \n",
      "\n",
      "            fre_avg  \n",
      "count  44661.000000  \n",
      "mean      38.842414  \n",
      "std       23.759899  \n",
      "min       10.200000  \n",
      "25%       27.200000  \n",
      "50%       32.333333  \n",
      "75%       41.200000  \n",
      "max      411.666667  \n"
     ]
    }
   ],
   "source": [
    "for i in range(3):\n",
    "    print(df_ana[df_ana['labels'] == i][['fre_peak','fre_nonpeak','traday_peak','traday_nonpeak','traday','fre_avg']].describe())"
   ]
  }
 ],
 "metadata": {
  "kernelspec": {
   "display_name": "Python 3",
   "language": "python",
   "name": "python3"
  },
  "language_info": {
   "codemirror_mode": {
    "name": "ipython",
    "version": 3
   },
   "file_extension": ".py",
   "mimetype": "text/x-python",
   "name": "python",
   "nbconvert_exporter": "python",
   "pygments_lexer": "ipython3",
   "version": "3.7.9"
  }
 },
 "nbformat": 4,
 "nbformat_minor": 5
}
